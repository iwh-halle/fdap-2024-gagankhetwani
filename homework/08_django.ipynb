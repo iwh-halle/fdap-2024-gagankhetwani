{
 "cells": [
  {
   "attachments": {},
   "cell_type": "markdown",
   "metadata": {},
   "source": [
    "![head.png](https://github.com/cafawo/FinancialDataAnalytics/blob/master/figures/head.jpg?raw=1)\n",
    "\n",
    "# Financial Data Analytics in Python\n",
    "\n",
    "**Prof. Dr. Fabian Woebbeking**</br>\n",
    "Assistant Professor of Financial Economics\n",
    "\n",
    "IWH - Leibniz Institute for Economic Research</br>\n",
    "MLU - Martin Luther University Halle-Wittenberg\n",
    "\n",
    "fabian.woebbeking@iwh-halle.de"
   ]
  },
  {
   "attachments": {},
   "cell_type": "markdown",
   "metadata": {},
   "source": [
    "# Homework: Django (web-framework)\n",
    "\n",
    "You will need a Git/GitHub repository to submit your course deliverables. Consult [**slides.ipynb**](https://github.com/cafawo/FinancialDataAnalytics) for help with the tasks below! If you need further assistance, do not hesitate to open a Q&A at https://github.com/cafawo/FinancialDataAnalytics/discussions"
   ]
  },
  {
   "cell_type": "code",
   "execution_count": 2,
   "metadata": {},
   "outputs": [],
   "source": [
    "# Packages used in this notebook\n",
    "import django\n",
    "import requests"
   ]
  },
  {
   "attachments": {},
   "cell_type": "markdown",
   "metadata": {},
   "source": [
    "### Task:\n",
    "\n",
    "Use Deribit's `\"/public/get_tradingview_chart_data\"` API endpoint to download historical price data for **\"BTC-PERPETUAL\"** with a resolution of $60$ minutes, reaching as far back as possible.\n",
    "\n",
    "Hint: https://docs.deribit.com/#public-get_tradingview_chart_data"
   ]
  },
  {
   "cell_type": "code",
   "execution_count": 1,
   "metadata": {},
   "outputs": [
    {
     "name": "stdout",
     "output_type": "stream",
     "text": [
      "          volume          ticks status     open      low     high        cost  \\\n",
      "4996  192.537486  1718035200000     ok  70054.0  69722.5  70098.5  13468160.0   \n",
      "4997   92.685930  1718038800000     ok  69974.0  69760.0  70064.0   6481680.0   \n",
      "4998  143.089265  1718042400000     ok  70039.5  69725.0  70138.5  10011920.0   \n",
      "4999  204.396248  1718046000000     ok  69856.5  69378.5  69856.5  14220070.0   \n",
      "5000  106.077520  1718049600000     ok  69492.0  69326.0  69509.5   7361210.0   \n",
      "\n",
      "        close  \n",
      "4996  69974.5  \n",
      "4997  70039.5  \n",
      "4998  69857.0  \n",
      "4999  69483.0  \n",
      "5000  69372.0  \n"
     ]
    }
   ],
   "source": [
    "import requests\n",
    "import time\n",
    "import pandas as pd\n",
    "\n",
    "# Deribit API URL\n",
    "url = \"https://www.deribit.com/api/v2/public/get_tradingview_chart_data\"\n",
    "\n",
    "# Parameters for the API request\n",
    "instrument_name = \"BTC-PERPETUAL\"\n",
    "resolution = \"60\"  # 60 minutes\n",
    "\n",
    "# Determine the current time and convert to milliseconds\n",
    "current_time = int(time.time() * 1000)\n",
    "\n",
    "# Set the start time far back enough (e.g., 3 years ago)\n",
    "start_time = current_time - (3* 365 * 24 * 60 * 60 * 1000)  # 3 years ago\n",
    "\n",
    "# Fetch the data\n",
    "params = {\n",
    "    \"instrument_name\": instrument_name,\n",
    "    \"resolution\": resolution,\n",
    "    \"start_timestamp\": start_time,\n",
    "    \"end_timestamp\": current_time,\n",
    "}\n",
    "\n",
    "response = requests.get(url, params=params)\n",
    "\n",
    "# Check for success\n",
    "if response.status_code == 200:\n",
    "    data = response.json()['result']\n",
    "    df = pd.DataFrame(data)\n",
    "    print(df.tail())\n",
    "else:\n",
    "    print(f\"Error: {response.status_code} - {response.text}\")\n"
   ]
  },
  {
   "cell_type": "markdown",
   "metadata": {},
   "source": [
    "### Task:\n",
    "\n",
    "Create a new Django project (or clone https://github.com/cafawo/StudySnips).\n",
    "\n",
    "Ad an \"api/deribit/\" endpoint to your project. This means that you need to modify **view.py** by adding a function to download the data and `return JsonResponse(data, safe=False)`. Also add the endpoint to **urls.py**.\n",
    "\n",
    "Hint: You can serve data directly through view.py, i.e. you do not need any data base model (models.py) to solve this task."
   ]
  },
  {
   "cell_type": "code",
   "execution_count": 2,
   "metadata": {},
   "outputs": [],
   "source": [
    "import requests\n",
    "import time\n",
    "from django.http import JsonResponse\n",
    "\n",
    "def deribit_data(request):\n",
    "    # Deribit API URL\n",
    "    url = \"https://www.deribit.com/api/v2/public/get_tradingview_chart_data\"\n",
    "    \n",
    "    # Parameters for the API request\n",
    "    instrument_name = \"BTC-PERPETUAL\"\n",
    "    resolution = \"60\"  # 60 minutes\n",
    "    \n",
    "    # Determine the current time and convert to milliseconds\n",
    "    current_time = int(time.time() * 1000)\n",
    "    \n",
    "    # Set the start time far back enough (e.g., 1 year ago)\n",
    "    start_time = current_time - (1 * 365 * 24 * 60 * 60 * 1000)  # 1 year ago\n",
    "    \n",
    "    # Fetch the data\n",
    "    params = {\n",
    "        \"instrument_name\": instrument_name,\n",
    "        \"resolution\": resolution,\n",
    "        \"start_timestamp\": start_time,\n",
    "        \"end_timestamp\": current_time,\n",
    "    }\n",
    "    \n",
    "    response = requests.get(url, params=params)\n",
    "    \n",
    "    # Check for success\n",
    "    if response.status_code == 200:\n",
    "        data = response.json()['result']\n",
    "        return JsonResponse(data, safe=False)\n",
    "    else:\n",
    "        return JsonResponse({'error': 'Failed to fetch data'}, status=response.status_code)\n"
   ]
  },
  {
   "cell_type": "markdown",
   "metadata": {},
   "source": [
    "### Task:\n",
    "\n",
    "Add a Chart.js object to display your Deribit data. You could start by modifying https://github.com/cafawo/StudySnips.git. You will need a template (chart.html) as well as modifications to view.py and urls.py - have a look at the slides."
   ]
  }
 ],
 "metadata": {
  "kernelspec": {
   "display_name": "Python 3 (ipykernel)",
   "language": "python",
   "name": "python3"
  },
  "language_info": {
   "codemirror_mode": {
    "name": "ipython",
    "version": 3
   },
   "file_extension": ".py",
   "mimetype": "text/x-python",
   "name": "python",
   "nbconvert_exporter": "python",
   "pygments_lexer": "ipython3",
   "version": "3.10.13"
  }
 },
 "nbformat": 4,
 "nbformat_minor": 2
}
