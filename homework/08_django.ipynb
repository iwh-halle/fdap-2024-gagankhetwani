{
 "cells": [
  {
   "attachments": {},
   "cell_type": "markdown",
   "metadata": {},
   "source": [
    "![head.png](https://github.com/cafawo/FinancialDataAnalytics/blob/master/figures/head.jpg?raw=1)\n",
    "\n",
    "# Financial Data Analytics in Python\n",
    "\n",
    "**Prof. Dr. Fabian Woebbeking**</br>\n",
    "Assistant Professor of Financial Economics\n",
    "\n",
    "IWH - Leibniz Institute for Economic Research</br>\n",
    "MLU - Martin Luther University Halle-Wittenberg\n",
    "\n",
    "fabian.woebbeking@iwh-halle.de"
   ]
  },
  {
   "attachments": {},
   "cell_type": "markdown",
   "metadata": {},
   "source": [
    "# Homework: Django (web-framework)\n",
    "\n",
    "You will need a Git/GitHub repository to submit your course deliverables. Consult [**slides.ipynb**](https://github.com/cafawo/FinancialDataAnalytics) for help with the tasks below! If you need further assistance, do not hesitate to open a Q&A at https://github.com/cafawo/FinancialDataAnalytics/discussions"
   ]
  },
  {
   "cell_type": "code",
   "execution_count": 2,
   "metadata": {},
   "outputs": [],
   "source": [
    "# Packages used in this notebook\n",
    "import django\n",
    "import requests"
   ]
  },
  {
   "attachments": {},
   "cell_type": "markdown",
   "metadata": {},
   "source": [
    "### Task:\n",
    "\n",
    "Use Deribit's `\"/public/get_tradingview_chart_data\"` API endpoint to download historical price data for **\"BTC-PERPETUAL\"** with a resolution of $60$ minutes, reaching as far back as possible.\n",
    "\n",
    "Hint: https://docs.deribit.com/#public-get_tradingview_chart_data"
   ]
  },
  {
   "cell_type": "code",
   "execution_count": 3,
   "metadata": {},
   "outputs": [
    {
     "name": "stdout",
     "output_type": "stream",
     "text": [
      "Data saved to btc_perpetual_data.csv\n"
     ]
    }
   ],
   "source": [
    "import requests\n",
    "import pandas as pd\n",
    "import time\n",
    "\n",
    "def fetch_deribit_data(resolution=60):\n",
    "    url = \"https://www.deribit.com/api/v2/public/get_tradingview_chart_data\"\n",
    "    params = {\n",
    "        'instrument_name': 'BTC-PERPETUAL',\n",
    "        'resolution': str(resolution),\n",
    "        'start_timestamp': 0,  # Start from the earliest possible timestamp\n",
    "        'end_timestamp': int(time.time() * 1000)  # Current timestamp in milliseconds\n",
    "    }\n",
    "\n",
    "    response = requests.get(url, params=params)\n",
    "    data = response.json()\n",
    "\n",
    "    if 'result' in data:\n",
    "        return data['result']\n",
    "    else:\n",
    "        print(\"Error fetching data:\", data)\n",
    "        return None\n",
    "\n",
    "def process_and_save_data(data, filename='btc_perpetual_data.csv'):\n",
    "    if data:\n",
    "        df = pd.DataFrame(data)\n",
    "        df['timestamp'] = pd.to_datetime(df['ticks'], unit='ms')\n",
    "        df.to_csv(filename, index=False)\n",
    "        print(f\"Data saved to {filename}\")\n",
    "    else:\n",
    "        print(\"No data to save.\")\n",
    "\n",
    "if __name__ == \"__main__\":\n",
    "    data = fetch_deribit_data()\n",
    "    process_and_save_data(data)\n"
   ]
  },
  {
   "cell_type": "markdown",
   "metadata": {},
   "source": [
    "### Task:\n",
    "\n",
    "Create a new Django project (or clone https://github.com/cafawo/StudySnips).\n",
    "\n",
    "Ad an \"api/deribit/\" endpoint to your project. This means that you need to modify **view.py** by adding a function to download the data and `return JsonResponse(data, safe=False)`. Also add the endpoint to **urls.py**.\n",
    "\n",
    "Hint: You can serve data directly through view.py, i.e. you do not need any data base model (models.py) to solve this task."
   ]
  },
  {
   "cell_type": "code",
   "execution_count": 7,
   "metadata": {},
   "outputs": [
    {
     "ename": "ImportError",
     "evalue": "attempted relative import with no known parent package",
     "output_type": "error",
     "traceback": [
      "\u001b[0;31m---------------------------------------------------------------------------\u001b[0m",
      "\u001b[0;31mImportError\u001b[0m                               Traceback (most recent call last)",
      "Cell \u001b[0;32mIn[7], line 29\u001b[0m\n\u001b[1;32m     27\u001b[0m \u001b[38;5;66;03m# myapp/urls.py\u001b[39;00m\n\u001b[1;32m     28\u001b[0m \u001b[38;5;28;01mfrom\u001b[39;00m \u001b[38;5;21;01mdjango\u001b[39;00m\u001b[38;5;21;01m.\u001b[39;00m\u001b[38;5;21;01murls\u001b[39;00m \u001b[38;5;28;01mimport\u001b[39;00m path\n\u001b[0;32m---> 29\u001b[0m \u001b[38;5;28;01mfrom\u001b[39;00m \u001b[38;5;21;01m.\u001b[39;00m \u001b[38;5;28;01mimport\u001b[39;00m views\n\u001b[1;32m     31\u001b[0m urlpatterns \u001b[38;5;241m=\u001b[39m [\n\u001b[1;32m     32\u001b[0m     path(\u001b[38;5;124m'\u001b[39m\u001b[38;5;124mapi/deribit/\u001b[39m\u001b[38;5;124m'\u001b[39m, views\u001b[38;5;241m.\u001b[39mderibit_data, name\u001b[38;5;241m=\u001b[39m\u001b[38;5;124m'\u001b[39m\u001b[38;5;124mderibit_data\u001b[39m\u001b[38;5;124m'\u001b[39m),\n\u001b[1;32m     33\u001b[0m ]\n\u001b[1;32m     35\u001b[0m \u001b[38;5;66;03m# myproject/urls.py\u001b[39;00m\n",
      "\u001b[0;31mImportError\u001b[0m: attempted relative import with no known parent package"
     ]
    }
   ],
   "source": [
    "# myapp/views.py\n",
    "from django.http import JsonResponse\n",
    "import requests\n",
    "import time\n",
    "\n",
    "def fetch_deribit_data():\n",
    "    url = \"https://www.deribit.com/api/v2/public/get_tradingview_chart_data\"\n",
    "    params = {\n",
    "        'instrument_name': 'BTC-PERPETUAL',\n",
    "        'resolution': '60',\n",
    "        'start_timestamp': 0,\n",
    "        'end_timestamp': int(time.time() * 1000)\n",
    "    }\n",
    "\n",
    "    response = requests.get(url, params=params)\n",
    "    data = response.json()\n",
    "\n",
    "    if 'result' in data:\n",
    "        return data['result']\n",
    "    else:\n",
    "        return {\"error\": \"Error fetching data\"}\n",
    "\n",
    "def deribit_data(request):\n",
    "    data = fetch_deribit_data()\n",
    "    return JsonResponse(data, safe=False)\n",
    "\n",
    "# myapp/urls.py\n",
    "from django.urls import path\n",
    "from . import views\n",
    "\n",
    "urlpatterns = [\n",
    "    path('api/deribit/', views.deribit_data, name='deribit_data'),\n",
    "]\n",
    "\n",
    "# myproject/urls.py\n",
    "from django.contrib import admin\n",
    "from django.urls import include, path\n",
    "\n",
    "urlpatterns = [\n",
    "    path('admin/', admin.site.urls),\n",
    "    path('', include('myapp.urls')),\n",
    "]\n",
    "\n"
   ]
  },
  {
   "cell_type": "markdown",
   "metadata": {},
   "source": [
    "### Task:\n",
    "\n",
    "Add a Chart.js object to display your Deribit data. You could start by modifying https://github.com/cafawo/StudySnips.git. You will need a template (chart.html) as well as modifications to view.py and urls.py - have a look at the slides."
   ]
  }
 ],
 "metadata": {
  "kernelspec": {
   "display_name": "Python 3 (ipykernel)",
   "language": "python",
   "name": "python3"
  },
  "language_info": {
   "codemirror_mode": {
    "name": "ipython",
    "version": 3
   },
   "file_extension": ".py",
   "mimetype": "text/x-python",
   "name": "python",
   "nbconvert_exporter": "python",
   "pygments_lexer": "ipython3",
   "version": "3.10.13"
  }
 },
 "nbformat": 4,
 "nbformat_minor": 2
}
