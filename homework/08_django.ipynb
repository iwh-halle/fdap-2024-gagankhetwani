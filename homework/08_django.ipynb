{
 "cells": [
  {
   "attachments": {},
   "cell_type": "markdown",
   "metadata": {},
   "source": [
    "![head.png](https://github.com/cafawo/FinancialDataAnalytics/blob/master/figures/head.jpg?raw=1)\n",
    "\n",
    "# Financial Data Analytics in Python\n",
    "\n",
    "**Prof. Dr. Fabian Woebbeking**</br>\n",
    "Assistant Professor of Financial Economics\n",
    "\n",
    "IWH - Leibniz Institute for Economic Research</br>\n",
    "MLU - Martin Luther University Halle-Wittenberg\n",
    "\n",
    "fabian.woebbeking@iwh-halle.de"
   ]
  },
  {
   "attachments": {},
   "cell_type": "markdown",
   "metadata": {},
   "source": [
    "# Homework: Django (web-framework)\n",
    "\n",
    "You will need a Git/GitHub repository to submit your course deliverables. Consult [**slides.ipynb**](https://github.com/cafawo/FinancialDataAnalytics) for help with the tasks below! If you need further assistance, do not hesitate to open a Q&A at https://github.com/cafawo/FinancialDataAnalytics/discussions"
   ]
  },
  {
   "cell_type": "code",
   "execution_count": 2,
   "metadata": {},
   "outputs": [],
   "source": [
    "# Packages used in this notebook\n",
    "import django\n",
    "import requests"
   ]
  },
  {
   "attachments": {},
   "cell_type": "markdown",
   "metadata": {},
   "source": [
    "### Task:\n",
    "\n",
    "Use Deribit's `\"/public/get_tradingview_chart_data\"` API endpoint to download historical price data for **\"BTC-PERPETUAL\"** with a resolution of $60$ minutes, reaching as far back as possible.\n",
    "\n",
    "Hint: https://docs.deribit.com/#public-get_tradingview_chart_data"
   ]
  },
  {
   "cell_type": "code",
   "execution_count": 10,
   "metadata": {},
   "outputs": [
    {
     "name": "stdout",
     "output_type": "stream",
     "text": [
      "{'usOut': 1717709056229903, 'usIn': 1717709056229894, 'usDiff': 9, 'testnet': False, 'jsonrpc': '2.0', 'error': {'message': 'Invalid params', 'data': {'reason': 'value required', 'param': 'start_timestamp'}, 'code': -32602}}\n"
     ]
    }
   ],
   "source": [
    "import requests\n",
    "\n",
    "def get_tradingview_chart_data():\n",
    "    base_url = \"https://www.deribit.com/api/v2/public/get_tradingview_chart_data\"\n",
    "    instrument = \"BTC-PERPETUAL\"\n",
    "    resolution = \"60\"  # 60 minutes\n",
    "\n",
    "    params = {\n",
    "        \"instrument_name\": instrument,\n",
    "        \"resolution\": resolution,\n",
    "    }\n",
    "\n",
    "    try:\n",
    "        response = requests.get(base_url, params=params)\n",
    "        data = response.json()\n",
    "        return data\n",
    "    except requests.RequestException as e:\n",
    "        print(f\"Error fetching data: {e}\")\n",
    "        return None\n",
    "\n",
    "if __name__ == \"__main__\":\n",
    "    chart_data = get_tradingview_chart_data()\n",
    "    if chart_data:\n",
    "        print(chart_data)\n",
    "    else:\n",
    "        print(\"Failed to retrieve data.\")\n"
   ]
  },
  {
   "cell_type": "code",
   "execution_count": 10,
   "metadata": {},
   "outputs": [
    {
     "name": "stdout",
     "output_type": "stream",
     "text": [
      "         volume          ticks status     open      low     high      cost  \\\n",
      "0      0.000295  1717284840000     ok  67724.5  67724.5  67724.5      20.0   \n",
      "1      2.467336  1717284900000     ok  67724.0  67724.0  67729.0  167100.0   \n",
      "2      0.001329  1717284960000     ok  67728.5  67728.5  67728.5      90.0   \n",
      "3      0.019932  1717285020000     ok  67728.5  67728.5  67729.0    1350.0   \n",
      "4      0.000000  1717285080000     ok  67728.5  67728.5  67728.5       0.0   \n",
      "...         ...            ...    ...      ...      ...      ...       ...   \n",
      "4996   0.014119  1717584600000     ok  70825.5  70825.5  70825.5    1000.0   \n",
      "4997   2.687700  1717584660000     ok  70825.5  70821.5  70857.0  190410.0   \n",
      "4998   5.152282  1717584720000     ok  70857.0  70857.0  70898.5  365210.0   \n",
      "4999  11.084654  1717584780000     ok  70890.0  70890.0  70939.5  786170.0   \n",
      "5000   0.410937  1717584840000     ok  70920.5  70899.0  70920.5   29140.0   \n",
      "\n",
      "        close  \n",
      "0     67724.5  \n",
      "1     67728.5  \n",
      "2     67728.5  \n",
      "3     67728.5  \n",
      "4     67728.5  \n",
      "...       ...  \n",
      "4996  70825.5  \n",
      "4997  70857.0  \n",
      "4998  70885.0  \n",
      "4999  70920.5  \n",
      "5000  70899.0  \n",
      "\n",
      "[5001 rows x 8 columns]\n"
     ]
    }
   ],
   "source": [
    "import requests\n",
    "import pandas as pd\n",
    "import time\n",
    "\n",
    "def get_deribit_data(symbol, resolution, start, end):\n",
    "    url = f\"https://www.deribit.com/api/v2/public/get_tradingview_chart_data\"\n",
    "    params = {\n",
    "        \"instrument_name\": symbol,\n",
    "        \"resolution\": resolution,\n",
    "        \"start_timestamp\": start,\n",
    "        \"end_timestamp\": end\n",
    "    }\n",
    "    response = requests.get(url, params=params)\n",
    "    data = response.json()\n",
    "    if data['result']:\n",
    "        return pd.DataFrame(data['result'])\n",
    "    else:\n",
    "        return None\n",
    "\n",
    "# Example usage:\n",
    "symbol = \"BTC-PERPETUAL\"\n",
    "resolution = \"1\"  # 1 minute resolution\n",
    "end = int(time.time() * 1000)\n",
    "start = end - (60 * 60 * 24 * 30 * 1000)  # Last 30 days\n",
    "\n",
    "df = get_deribit_data(symbol, resolution, start, end)\n",
    "if df is not None:\n",
    "    print(df)\n",
    "else:\n",
    "    print(\"No data returned\")\n"
   ]
  },
  {
   "cell_type": "markdown",
   "metadata": {},
   "source": [
    "### Task:\n",
    "\n",
    "Create a new Django project (or clone https://github.com/cafawo/StudySnips).\n",
    "\n",
    "Ad an \"api/deribit/\" endpoint to your project. This means that you need to modify **view.py** by adding a function to download the data and `return JsonResponse(data, safe=False)`. Also add the endpoint to **urls.py**.\n",
    "\n",
    "Hint: You can serve data directly through view.py, i.e. you do not need any data base model (models.py) to solve this task."
   ]
  },
  {
   "cell_type": "code",
   "execution_count": 11,
   "metadata": {},
   "outputs": [
    {
     "ename": "ImportError",
     "evalue": "attempted relative import with no known parent package",
     "output_type": "error",
     "traceback": [
      "\u001b[0;31m---------------------------------------------------------------------------\u001b[0m",
      "\u001b[0;31mImportError\u001b[0m                               Traceback (most recent call last)",
      "Cell \u001b[0;32mIn[11], line 16\u001b[0m\n\u001b[1;32m     14\u001b[0m \u001b[38;5;66;03m# deribit_project/myapp/urls.py\u001b[39;00m\n\u001b[1;32m     15\u001b[0m \u001b[38;5;28;01mfrom\u001b[39;00m \u001b[38;5;21;01mdjango\u001b[39;00m\u001b[38;5;21;01m.\u001b[39;00m\u001b[38;5;21;01murls\u001b[39;00m \u001b[38;5;28;01mimport\u001b[39;00m path\n\u001b[0;32m---> 16\u001b[0m \u001b[38;5;28;01mfrom\u001b[39;00m \u001b[38;5;21;01m.\u001b[39;00m\u001b[38;5;21;01mviews\u001b[39;00m \u001b[38;5;28;01mimport\u001b[39;00m deribit_data\n\u001b[1;32m     18\u001b[0m urlpatterns \u001b[38;5;241m=\u001b[39m [\n\u001b[1;32m     19\u001b[0m     \u001b[38;5;66;03m# Other URL patterns...\u001b[39;00m\n\u001b[1;32m     20\u001b[0m     path(\u001b[38;5;124m\"\u001b[39m\u001b[38;5;124mapi/deribit/\u001b[39m\u001b[38;5;124m\"\u001b[39m, deribit_data, name\u001b[38;5;241m=\u001b[39m\u001b[38;5;124m\"\u001b[39m\u001b[38;5;124mderibit_data\u001b[39m\u001b[38;5;124m\"\u001b[39m),\n\u001b[1;32m     21\u001b[0m ]\n",
      "\u001b[0;31mImportError\u001b[0m: attempted relative import with no known parent package"
     ]
    }
   ],
   "source": [
    "# deribit_project/myapp/views.py\n",
    "from django.http import JsonResponse\n",
    "\n",
    "def deribit_data(request):\n",
    "    # Replace this with your actual data retrieval logic\n",
    "    data = {\n",
    "        \"BTC-PERPETUAL\": [\n",
    "            {\"timestamp\": \"2024-06-06T12:00:00Z\", \"price\": 50000.0},\n",
    "            {\"timestamp\": \"2024-06-06T13:00:00Z\", \"price\": 51000.0},\n",
    "            # Add more data points here\n",
    "        ]\n",
    "    }\n",
    "    return JsonResponse(data, safe=False)\n",
    "# deribit_project/myapp/urls.py\n",
    "from django.urls import path\n",
    "from .views import deribit_data\n",
    "\n",
    "urlpatterns = [\n",
    "    # Other URL patterns...\n",
    "    path(\"api/deribit/\", deribit_data, name=\"deribit_data\"),\n",
    "]\n"
   ]
  },
  {
   "cell_type": "markdown",
   "metadata": {},
   "source": [
    "### Task:\n",
    "\n",
    "Add a Chart.js object to display your Deribit data. You could start by modifying https://github.com/cafawo/StudySnips.git. You will need a template (chart.html) as well as modifications to view.py and urls.py - have a look at the slides."
   ]
  }
 ],
 "metadata": {
  "kernelspec": {
   "display_name": "Python 3 (ipykernel)",
   "language": "python",
   "name": "python3"
  },
  "language_info": {
   "codemirror_mode": {
    "name": "ipython",
    "version": 3
   },
   "file_extension": ".py",
   "mimetype": "text/x-python",
   "name": "python",
   "nbconvert_exporter": "python",
   "pygments_lexer": "ipython3",
   "version": "3.10.13"
  }
 },
 "nbformat": 4,
 "nbformat_minor": 2
}
