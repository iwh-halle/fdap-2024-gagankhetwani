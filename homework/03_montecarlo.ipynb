{
 "cells": [
  {
   "attachments": {},
   "cell_type": "markdown",
   "metadata": {},
   "source": [
    "![head.png](https://github.com/iwh-halle/FinancialDataAnalytics/blob/master/figures/head.jpg?raw=1)\n",
    "\n",
    "# Financial Data Analytics in Python\n",
    "\n",
    "**Prof. Dr. Fabian Woebbeking**</br>\n",
    "Assistant Professor of Financial Economics\n",
    "\n",
    "IWH - Leibniz Institute for Economic Research</br>\n",
    "MLU - Martin Luther University Halle-Wittenberg\n",
    "\n",
    "fabian.woebbeking@iwh-halle.de"
   ]
  },
  {
   "attachments": {},
   "cell_type": "markdown",
   "metadata": {},
   "source": [
    "# Homework\n",
    "\n",
    "You will need a Git/GitHub repository to submit your course deliverables. Consult [**slides.ipynb**](https://github.com/iwh-halle/FinancialDataAnalytics) for help with the tasks below! If you need further assistance, do not hesitate to open a Q&A at https://github.com/cafawo/FinancialDataAnalytics/discussions"
   ]
  },
  {
   "attachments": {},
   "cell_type": "markdown",
   "metadata": {},
   "source": [
    "### Task: \n",
    "\n",
    "The liquidity position of a firm measured in million is a **generalized Wiener process** with a drift of $0.1$ per month and a variance of $\\sigma^2 = 0.16$ per month. The initial cash position is $2.0$. Calculate:\n",
    "\n",
    "1. \tthe expected value and standard deviation in one, six and 12 months.\n",
    "2.\tWhat is the probability of a negative cash position in 6 and 12 months? "
   ]
  },
  {
   "cell_type": "code",
   "execution_count": 1,
   "metadata": {},
   "outputs": [
    {
     "name": "stdout",
     "output_type": "stream",
     "text": [
      "At 1 months:\n",
      "  Expected Value: 2.1000 million\n",
      "  Standard Deviation: 0.4000 million\n",
      "At 6 months:\n",
      "  Expected Value: 2.6000 million\n",
      "  Standard Deviation: 0.9798 million\n",
      "  Probability of Negative Cash Position: 0.3982%\n",
      "At 12 months:\n",
      "  Expected Value: 3.2000 million\n",
      "  Standard Deviation: 1.3856 million\n",
      "  Probability of Negative Cash Position: 1.0461%\n"
     ]
    }
   ],
   "source": [
    "import numpy as np\n",
    "from scipy.stats import norm\n",
    "\n",
    "# Given values\n",
    "mu = 0.1  # drift per month\n",
    "sigma = np.sqrt(0.16)  # standard deviation per month\n",
    "X_0 = 2.0  # initial cash position\n",
    "\n",
    "# Time periods in months\n",
    "times = [1, 6, 12]\n",
    "\n",
    "# Calculate expected values and standard deviations\n",
    "for t in times:\n",
    "    expected_value = X_0 + mu * t\n",
    "    std_deviation = sigma * np.sqrt(t)\n",
    "    print(f\"At {t} months:\")\n",
    "    print(f\"  Expected Value: {expected_value:.4f} million\")\n",
    "    print(f\"  Standard Deviation: {std_deviation:.4f} million\")\n",
    "    \n",
    "    if t == 6 or t == 12:\n",
    "        # Calculate the probability of a negative cash position\n",
    "        z_value = (0 - expected_value) / std_deviation\n",
    "        prob_negative_cash = norm.cdf(z_value)\n",
    "        print(f\"  Probability of Negative Cash Position: {prob_negative_cash:.4%}\")\n"
   ]
  },
  {
   "attachments": {},
   "cell_type": "markdown",
   "metadata": {},
   "source": [
    "### Task: \n",
    "\n",
    "The cash flow of a [call option](https://en.wikipedia.org/wiki/Call_option) with strike $K$ at maturity $T$ is given by\n",
    "\n",
    "$$\n",
    "max(S_T - K, 0) = (S_T - K)^+\n",
    "$$\n",
    "\n",
    "where $S_T$ is the price of the underlying at $T$. The price of the option under the [risk-neutral measure](https://en.wikipedia.org/wiki/Risk-neutral_measure) $\\mathbb{Q}$ is simply its discounted expected value\n",
    "$$\n",
    "\\mathbb{E}^\\mathbb{Q}[(S_T - K)^+] e^{-rT}.\n",
    "$$\n",
    "\n",
    "\n",
    "Calculate the price of the option, using:\n",
    "1. numerical integration and\n",
    "2. Monte carlo simulation.\n",
    "\n",
    "For you calculations, assume that todays price of the underlying is $S_0 = 220$, the strike is $K = 220$, volatility is $\\sigma = 0.98$, the risk free rate is $r = 10\\%$ (continuous) and maturity is one year. We further assume that the underlying $S$ follows a **Geometric Brownian motion**.\n",
    "\n",
    "Hint: The terminal stock price $S_T$, under the risk-neutral measure, follows a log-normal distribution with PDF\n",
    "\n",
    "$$f(x) = \\frac{1}{x s \\sqrt{2 \\pi}} \\exp\\left( -\\frac{(\\ln x - \\mu)^2}{2 s^2} \\right) $$\n",
    "\n",
    "where $\\mu = \\ln S_0 + (r-\\sigma^2 / 2)T$ and variance $s^2 = \\sigma^2 T$.\n"
   ]
  },
  {
   "cell_type": "code",
   "execution_count": 2,
   "metadata": {},
   "outputs": [
    {
     "name": "stdout",
     "output_type": "stream",
     "text": [
      "Option Price (Numerical Integration): 81.5466\n",
      "Option Price (Monte Carlo Simulation): 89.7523\n"
     ]
    }
   ],
   "source": [
    "import numpy as np\n",
    "import scipy.integrate as integrate\n",
    "import matplotlib.pyplot as plt\n",
    "\n",
    "# Given values\n",
    "S_0 = 220\n",
    "K = 220\n",
    "sigma = 0.98\n",
    "r = 0.10\n",
    "T = 1\n",
    "\n",
    "# Parameters for the log-normal distribution\n",
    "mu = np.log(S_0) + (r - 0.5 * sigma**2) * T\n",
    "s = sigma * np.sqrt(T)\n",
    "\n",
    "# Risk-free discount factor\n",
    "discount_factor = np.exp(-r * T)\n",
    "\n",
    "# 1. Numerical Integration\n",
    "def integrand(ST):\n",
    "    payoff = np.maximum(ST - K, 0)\n",
    "    pdf = (1 / (ST * s * np.sqrt(2 * np.pi))) * np.exp(-((np.log(ST) - mu) ** 2) / (2 * s**2))\n",
    "    return payoff * pdf\n",
    "\n",
    "# Integrate over the range from 0 to a reasonably large number\n",
    "integral_result, _ = integrate.quad(integrand, 0, S_0 * 10)\n",
    "option_price_numerical_integration = integral_result * discount_factor\n",
    "print(f\"Option Price (Numerical Integration): {option_price_numerical_integration:.4f}\")\n",
    "\n",
    "# 2. Monte Carlo Simulation\n",
    "np.random.seed(0)  # For reproducibility\n",
    "num_simulations = 1000000\n",
    "ST_simulations = S_0 * np.exp((r - 0.5 * sigma**2) * T + sigma * np.sqrt(T) * np.random.randn(num_simulations))\n",
    "payoffs = np.maximum(ST_simulations - K, 0)\n",
    "option_price_monte_carlo = np.mean(payoffs) * discount_factor\n",
    "print(f\"Option Price (Monte Carlo Simulation): {option_price_monte_carlo:.4f}\")\n"
   ]
  }
 ],
 "metadata": {
  "kernelspec": {
   "display_name": "Python 3 (ipykernel)",
   "language": "python",
   "name": "python3"
  },
  "language_info": {
   "codemirror_mode": {
    "name": "ipython",
    "version": 3
   },
   "file_extension": ".py",
   "mimetype": "text/x-python",
   "name": "python",
   "nbconvert_exporter": "python",
   "pygments_lexer": "ipython3",
   "version": "3.10.13"
  }
 },
 "nbformat": 4,
 "nbformat_minor": 2
}
